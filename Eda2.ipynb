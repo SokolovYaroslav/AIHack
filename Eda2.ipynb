{
 "cells": [
  {
   "cell_type": "code",
   "execution_count": 1,
   "metadata": {
    "collapsed": true
   },
   "outputs": [],
   "source": [
    "import pandas as pd\n",
    "import numpy as  np\n",
    "import seaborn as sns\n",
    "import matplotlib.pyplot as plt\n",
    "%matplotlib inline\n",
    "from utils import *\n",
    "from datetime import datetime"
   ]
  },
  {
   "cell_type": "code",
   "execution_count": 19,
   "metadata": {
    "collapsed": true
   },
   "outputs": [],
   "source": [
    "import math\n",
    "def log(x):\n",
    "    if x <= 0:\n",
    "        return -math.log(-(x - 1))\n",
    "    else: \n",
    "        return math.log(x + 1)"
   ]
  },
  {
   "cell_type": "code",
   "execution_count": 2,
   "metadata": {},
   "outputs": [
    {
     "name": "stderr",
     "output_type": "stream",
     "text": [
      "/home/sokolov_yas/anaconda3/lib/python3.6/site-packages/pandas/core/generic.py:1299: PerformanceWarning: \n",
      "your performance may suffer as PyTables will pickle object types that it cannot\n",
      "map directly to c-types [inferred_type->mixed,key->block3_values] [items->['time', 'id', 'code']]\n",
      "\n",
      "  return pytables.to_hdf(path_or_buf, key, self, **kwargs)\n"
     ]
    }
   ],
   "source": [
    "train, test = load_data()"
   ]
  },
  {
   "cell_type": "code",
   "execution_count": 3,
   "metadata": {},
   "outputs": [
    {
     "data": {
      "text/html": [
       "<div>\n",
       "<style>\n",
       "    .dataframe thead tr:only-child th {\n",
       "        text-align: right;\n",
       "    }\n",
       "\n",
       "    .dataframe thead th {\n",
       "        text-align: left;\n",
       "    }\n",
       "\n",
       "    .dataframe tbody tr th {\n",
       "        vertical-align: top;\n",
       "    }\n",
       "</style>\n",
       "<table border=\"1\" class=\"dataframe\">\n",
       "  <thead>\n",
       "    <tr style=\"text-align: right;\">\n",
       "      <th></th>\n",
       "      <th>time</th>\n",
       "      <th>date</th>\n",
       "      <th>v_l</th>\n",
       "      <th>q</th>\n",
       "      <th>n_tr</th>\n",
       "      <th>sum_b</th>\n",
       "      <th>code_azs</th>\n",
       "      <th>id</th>\n",
       "      <th>location</th>\n",
       "      <th>region</th>\n",
       "      <th>code</th>\n",
       "      <th>code1</th>\n",
       "      <th>percent</th>\n",
       "      <th>type</th>\n",
       "      <th>return_num</th>\n",
       "      <th>first_prch</th>\n",
       "    </tr>\n",
       "  </thead>\n",
       "  <tbody>\n",
       "    <tr>\n",
       "      <th>0</th>\n",
       "      <td>NaN</td>\n",
       "      <td>2016-12-28</td>\n",
       "      <td>30.46</td>\n",
       "      <td>0</td>\n",
       "      <td>2016</td>\n",
       "      <td>1090.60</td>\n",
       "      <td>5915.0</td>\n",
       "      <td>21-8B2-7695</td>\n",
       "      <td>10.0</td>\n",
       "      <td>454.5</td>\n",
       "      <td>1010121</td>\n",
       "      <td>126.0</td>\n",
       "      <td>0.0</td>\n",
       "      <td>5</td>\n",
       "      <td>NaN</td>\n",
       "      <td>2016-12-27 23:06:11</td>\n",
       "    </tr>\n",
       "    <tr>\n",
       "      <th>1</th>\n",
       "      <td>NaN</td>\n",
       "      <td>2016-12-27</td>\n",
       "      <td>0.00</td>\n",
       "      <td>1</td>\n",
       "      <td>2016</td>\n",
       "      <td>180.91</td>\n",
       "      <td>5915.0</td>\n",
       "      <td>21-8B2-7695</td>\n",
       "      <td>10.0</td>\n",
       "      <td>454.5</td>\n",
       "      <td>2230000</td>\n",
       "      <td>164.0</td>\n",
       "      <td>0.0</td>\n",
       "      <td>6</td>\n",
       "      <td>NaN</td>\n",
       "      <td>2016-12-27 23:06:11</td>\n",
       "    </tr>\n",
       "    <tr>\n",
       "      <th>2</th>\n",
       "      <td>NaN</td>\n",
       "      <td>2016-12-27</td>\n",
       "      <td>35.60</td>\n",
       "      <td>0</td>\n",
       "      <td>2016</td>\n",
       "      <td>1363.48</td>\n",
       "      <td>5915.0</td>\n",
       "      <td>21-8B2-7695</td>\n",
       "      <td>10.0</td>\n",
       "      <td>454.5</td>\n",
       "      <td>1010131</td>\n",
       "      <td>128.0</td>\n",
       "      <td>0.0</td>\n",
       "      <td>13</td>\n",
       "      <td>NaN</td>\n",
       "      <td>2016-12-27 23:06:11</td>\n",
       "    </tr>\n",
       "    <tr>\n",
       "      <th>3</th>\n",
       "      <td>08:24:24</td>\n",
       "      <td>2017-10-23</td>\n",
       "      <td>31.01</td>\n",
       "      <td>0</td>\n",
       "      <td>2017</td>\n",
       "      <td>1181.45</td>\n",
       "      <td>5915.0</td>\n",
       "      <td>21-8B2-7695</td>\n",
       "      <td>10.0</td>\n",
       "      <td>454.5</td>\n",
       "      <td>1010121</td>\n",
       "      <td>126.0</td>\n",
       "      <td>0.0</td>\n",
       "      <td>7</td>\n",
       "      <td>NaN</td>\n",
       "      <td>2016-12-27 23:06:11</td>\n",
       "    </tr>\n",
       "    <tr>\n",
       "      <th>4</th>\n",
       "      <td>NaN</td>\n",
       "      <td>2017-03-19</td>\n",
       "      <td>51.95</td>\n",
       "      <td>0</td>\n",
       "      <td>2017</td>\n",
       "      <td>1818.09</td>\n",
       "      <td>2418.0</td>\n",
       "      <td>21-8B2-7695</td>\n",
       "      <td>9.0</td>\n",
       "      <td>454.0</td>\n",
       "      <td>1010121</td>\n",
       "      <td>126.0</td>\n",
       "      <td>0.0</td>\n",
       "      <td>5</td>\n",
       "      <td>NaN</td>\n",
       "      <td>2016-12-27 23:06:11</td>\n",
       "    </tr>\n",
       "  </tbody>\n",
       "</table>\n",
       "</div>"
      ],
      "text/plain": [
       "       time       date    v_l  q  n_tr    sum_b  code_azs           id  \\\n",
       "0       NaN 2016-12-28  30.46  0  2016  1090.60    5915.0  21-8B2-7695   \n",
       "1       NaN 2016-12-27   0.00  1  2016   180.91    5915.0  21-8B2-7695   \n",
       "2       NaN 2016-12-27  35.60  0  2016  1363.48    5915.0  21-8B2-7695   \n",
       "3  08:24:24 2017-10-23  31.01  0  2017  1181.45    5915.0  21-8B2-7695   \n",
       "4       NaN 2017-03-19  51.95  0  2017  1818.09    2418.0  21-8B2-7695   \n",
       "\n",
       "   location  region     code  code1  percent  type  return_num  \\\n",
       "0      10.0   454.5  1010121  126.0      0.0     5         NaN   \n",
       "1      10.0   454.5  2230000  164.0      0.0     6         NaN   \n",
       "2      10.0   454.5  1010131  128.0      0.0    13         NaN   \n",
       "3      10.0   454.5  1010121  126.0      0.0     7         NaN   \n",
       "4       9.0   454.0  1010121  126.0      0.0     5         NaN   \n",
       "\n",
       "           first_prch  \n",
       "0 2016-12-27 23:06:11  \n",
       "1 2016-12-27 23:06:11  \n",
       "2 2016-12-27 23:06:11  \n",
       "3 2016-12-27 23:06:11  \n",
       "4 2016-12-27 23:06:11  "
      ]
     },
     "execution_count": 3,
     "metadata": {},
     "output_type": "execute_result"
    }
   ],
   "source": [
    "train.head()"
   ]
  },
  {
   "cell_type": "markdown",
   "metadata": {},
   "source": [
    "## Missing values"
   ]
  },
  {
   "cell_type": "code",
   "execution_count": 31,
   "metadata": {},
   "outputs": [
    {
     "name": "stdout",
     "output_type": "stream",
     "text": [
      "time has 1563471 missing values\n",
      "date has 0 missing values\n",
      "v_l has 0 missing values\n",
      "q has 0 missing values\n",
      "n_tr has 0 missing values\n",
      "sum_b has 76 missing values\n",
      "code_azs has 3414 missing values\n",
      "id has 0 missing values\n",
      "location has 689 missing values\n",
      "region has 2270 missing values\n",
      "code has 0 missing values\n",
      "code1 has 29277 missing values\n",
      "percent has 278 missing values\n",
      "type has 0 missing values\n",
      "return_num has 5454255 missing values\n",
      "first_prch has 0 missing values\n"
     ]
    }
   ],
   "source": [
    "for column in train.columns:\n",
    "    print('{} has {} missing values'.format(column, train[column].isnull().sum()))"
   ]
  },
  {
   "cell_type": "markdown",
   "metadata": {},
   "source": [
    "### sum_b"
   ]
  },
  {
   "cell_type": "markdown",
   "metadata": {},
   "source": [
    "сумма покупки"
   ]
  },
  {
   "cell_type": "code",
   "execution_count": 22,
   "metadata": {},
   "outputs": [
    {
     "data": {
      "text/plain": [
       "76"
      ]
     },
     "execution_count": 22,
     "metadata": {},
     "output_type": "execute_result"
    }
   ],
   "source": [
    "train.sum_b.isnull().sum()"
   ]
  },
  {
   "cell_type": "markdown",
   "metadata": {},
   "source": [
    "Пропущенных мало, не страшно."
   ]
  },
  {
   "cell_type": "code",
   "execution_count": 10,
   "metadata": {},
   "outputs": [
    {
     "data": {
      "text/plain": [
       "count    5.563526e+06\n",
       "mean     6.981997e+02\n",
       "std      6.822706e+02\n",
       "min     -5.986480e+03\n",
       "25%      2.272500e+02\n",
       "50%      5.452400e+02\n",
       "75%      9.092300e+02\n",
       "max      3.541745e+04\n",
       "Name: sum_b, dtype: float64"
      ]
     },
     "execution_count": 10,
     "metadata": {},
     "output_type": "execute_result"
    }
   ],
   "source": [
    "train.sum_b.describe()"
   ]
  },
  {
   "cell_type": "markdown",
   "metadata": {},
   "source": [
    "Есть отрицательные. Все распределения подходят под гипотезу о том, что это возвраты товаров."
   ]
  },
  {
   "cell_type": "code",
   "execution_count": 15,
   "metadata": {},
   "outputs": [
    {
     "data": {
      "image/png": "[encoded data removed]",
      "text/plain": [
       "<matplotlib.figure.Figure at 0x7f67d6e2bc50>"
      ]
     },
     "metadata": {},
     "output_type": "display_data"
    }
   ],
   "source": [
    "train.sum_b.hist();"
   ]
  },
  {
   "cell_type": "code",
   "execution_count": 20,
   "metadata": {},
   "outputs": [
    {
     "data": {
      "image/png": "[encoded data removed]",
      "text/plain": [
       "<matplotlib.figure.Figure at 0x7f67d79ff2b0>"
      ]
     },
     "metadata": {},
     "output_type": "display_data"
    }
   ],
   "source": [
    "train.sum_b.apply(log).hist();"
   ]
  },
  {
   "cell_type": "markdown",
   "metadata": {},
   "source": [
    "### q"
   ]
  },
  {
   "cell_type": "markdown",
   "metadata": {},
   "source": [
    "количество приобретенного товара в магазине при АЗС"
   ]
  },
  {
   "cell_type": "code",
   "execution_count": 23,
   "metadata": {},
   "outputs": [
    {
     "data": {
      "text/plain": [
       "0"
      ]
     },
     "execution_count": 23,
     "metadata": {},
     "output_type": "execute_result"
    }
   ],
   "source": [
    "train.q.isnull().sum()"
   ]
  },
  {
   "cell_type": "code",
   "execution_count": 24,
   "metadata": {},
   "outputs": [
    {
     "data": {
      "text/plain": [
       "count    5.563602e+06\n",
       "mean     2.514134e-01\n",
       "std      1.338657e+00\n",
       "min     -2.450000e+02\n",
       "25%      0.000000e+00\n",
       "50%      0.000000e+00\n",
       "75%      0.000000e+00\n",
       "max      5.000000e+02\n",
       "Name: q, dtype: float64"
      ]
     },
     "execution_count": 24,
     "metadata": {},
     "output_type": "execute_result"
    }
   ],
   "source": [
    "train.q.describe()"
   ]
  },
  {
   "cell_type": "markdown",
   "metadata": {},
   "source": [
    "Та же теория про возвраты."
   ]
  },
  {
   "cell_type": "code",
   "execution_count": 25,
   "metadata": {},
   "outputs": [
    {
     "data": {
      "image/png": "[encoded data removed]",
      "text/plain": [
       "<matplotlib.figure.Figure at 0x7f67a3b34ba8>"
      ]
     },
     "metadata": {},
     "output_type": "display_data"
    }
   ],
   "source": [
    "train.q.hist();"
   ]
  },
  {
   "cell_type": "code",
   "execution_count": 26,
   "metadata": {},
   "outputs": [
    {
     "data": {
      "image/png": "[encoded data removed]",
      "text/plain": [
       "<matplotlib.figure.Figure at 0x7f669a46e9e8>"
      ]
     },
     "metadata": {},
     "output_type": "display_data"
    }
   ],
   "source": [
    "train.q.apply(log).hist();"
   ]
  },
  {
   "cell_type": "markdown",
   "metadata": {},
   "source": [
    "### v_l"
   ]
  },
  {
   "cell_type": "markdown",
   "metadata": {},
   "source": [
    "объем приобретенного нефтепродукта"
   ]
  },
  {
   "cell_type": "code",
   "execution_count": 27,
   "metadata": {},
   "outputs": [
    {
     "data": {
      "text/plain": [
       "0"
      ]
     },
     "execution_count": 27,
     "metadata": {},
     "output_type": "execute_result"
    }
   ],
   "source": [
    "train.v_l.isnull().sum()"
   ]
  },
  {
   "cell_type": "code",
   "execution_count": 28,
   "metadata": {},
   "outputs": [
    {
     "data": {
      "text/plain": [
       "count    5.563602e+06\n",
       "mean     1.855327e+01\n",
       "std      1.913043e+01\n",
       "min     -1.601100e+02\n",
       "25%      5.380000e+00\n",
       "50%      1.455000e+01\n",
       "75%      2.681000e+01\n",
       "max      9.679500e+02\n",
       "Name: v_l, dtype: float64"
      ]
     },
     "execution_count": 28,
     "metadata": {},
     "output_type": "execute_result"
    }
   ],
   "source": [
    "train.v_l.describe()"
   ]
  },
  {
   "cell_type": "markdown",
   "metadata": {},
   "source": [
    "Опять возвраты"
   ]
  },
  {
   "cell_type": "code",
   "execution_count": 29,
   "metadata": {},
   "outputs": [
    {
     "data": {
      "image/png": "[encoded data removed]",
      "text/plain": [
       "<matplotlib.figure.Figure at 0x7f67a0f34940>"
      ]
     },
     "metadata": {},
     "output_type": "display_data"
    }
   ],
   "source": [
    "train.v_l.hist();"
   ]
  },
  {
   "cell_type": "code",
   "execution_count": 30,
   "metadata": {},
   "outputs": [
    {
     "data": {
      "image/png": "[encoded data removed]",
      "text/plain": [
       "<matplotlib.figure.Figure at 0x7f67d78dd828>"
      ]
     },
     "metadata": {},
     "output_type": "display_data"
    }
   ],
   "source": [
    "train.v_l.apply(log).hist();"
   ]
  },
  {
   "cell_type": "code",
   "execution_count": 24,
   "metadata": {
    "collapsed": true
   },
   "outputs": [],
   "source": [
    "azs_sum = df.groupby(by='code_azs').sum_b.sum()"
   ]
  },
  {
   "cell_type": "code",
   "execution_count": 21,
   "metadata": {},
   "outputs": [
    {
     "data": {
      "image/png": "[encoded data removed]",
      "text/plain": [
       "<matplotlib.figure.Figure at 0x7f519ffe1be0>"
      ]
     },
     "metadata": {},
     "output_type": "display_data"
    }
   ],
   "source": [
    "sns.distplot(azs_sum);"
   ]
  },
  {
   "cell_type": "code",
   "execution_count": 25,
   "metadata": {
    "collapsed": true
   },
   "outputs": [],
   "source": [
    "user_sum = df.groupby(by='id').sum_b.sum()"
   ]
  },
  {
   "cell_type": "code",
   "execution_count": 27,
   "metadata": {},
   "outputs": [
    {
     "data": {
      "image/png": "[encoded data removed]",
      "text/plain": [
       "<matplotlib.figure.Figure at 0x7f519fdd90b8>"
      ]
     },
     "metadata": {},
     "output_type": "display_data"
    }
   ],
   "source": [
    "sns.distplot(user_sum);"
   ]
  },
  {
   "cell_type": "markdown",
   "metadata": {
    "collapsed": true
   },
   "source": [
    "## Time"
   ]
  },
  {
   "cell_type": "code",
   "execution_count": 1,
   "metadata": {},
   "outputs": [
    {
     "ename": "NameError",
     "evalue": "name 'train' is not defined",
     "output_type": "error",
     "traceback": [
      "\u001b[0;31m---------------------------------------------------------------------------\u001b[0m",
      "\u001b[0;31mNameError\u001b[0m                                 Traceback (most recent call last)",
      "\u001b[0;32m<ipython-input-1-d53910c716ab>\u001b[0m in \u001b[0;36m<module>\u001b[0;34m()\u001b[0m\n\u001b[0;32m----> 1\u001b[0;31m \u001b[0mtrain\u001b[0m\u001b[0;34m.\u001b[0m\u001b[0mtime\u001b[0m\u001b[0;34m.\u001b[0m\u001b[0misnull\u001b[0m\u001b[0;34m(\u001b[0m\u001b[0;34m)\u001b[0m\u001b[0;34m.\u001b[0m\u001b[0msum\u001b[0m\u001b[0;34m(\u001b[0m\u001b[0;34m)\u001b[0m\u001b[0;34m\u001b[0m\u001b[0m\n\u001b[0m",
      "\u001b[0;31mNameError\u001b[0m: name 'train' is not defined"
     ]
    }
   ],
   "source": [
    "train.time.isnull().sum()"
   ]
  },
  {
   "cell_type": "code",
   "execution_count": null,
   "metadata": {
    "collapsed": true
   },
   "outputs": [],
   "source": []
  }
 ],
 "metadata": {
  "kernelspec": {
   "display_name": "Python 3",
   "language": "python",
   "name": "python3"
  },
  "language_info": {
   "codemirror_mode": {
    "name": "ipython",
    "version": 3
   },
   "file_extension": ".py",
   "mimetype": "text/x-python",
   "name": "python",
   "nbconvert_exporter": "python",
   "pygments_lexer": "ipython3",
   "version": "3.6.3"
  }
 },
 "nbformat": 4,
 "nbformat_minor": 2
}
