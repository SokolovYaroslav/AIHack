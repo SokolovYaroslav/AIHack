{
 "cells": [
  {
   "cell_type": "code",
   "execution_count": 1,
   "metadata": {
    "collapsed": true
   },
   "outputs": [],
   "source": [
    "import pandas as pd\n",
    "import numpy as np\n",
    "from utils_optimized import *\n",
    "import warnings\n",
    "from lightgbm import LGBMClassifier\n",
    "from catboost import CatBoostClassifier\n",
    "from xgboost import XGBClassifier\n",
    "from sklearn.metrics import roc_auc_score\n",
    "from sklearn.linear_model import LinearRegression\n",
    "warnings.simplefilter('ignore')\n",
    "total_splits = 4"
   ]
  },
  {
   "cell_type": "code",
   "execution_count": 2,
   "metadata": {
    "collapsed": true
   },
   "outputs": [],
   "source": [
    "train, test = load_data()"
   ]
  },
  {
   "cell_type": "code",
   "execution_count": 3,
   "metadata": {
    "collapsed": true
   },
   "outputs": [],
   "source": [
    "def aggregate_cb(df, take_values=True):\n",
    "    mode = lambda x: stats.mode(x).mode[0]\n",
    "    fst = lambda vec: vec.iloc[0]\n",
    "    simple_trend = lambda vec: np.sum(vec.shift(1)-vec[1:])\n",
    "    \n",
    "    num_features = ['min', 'max', 'median', 'sum', simple_trend]\n",
    "    cat_features = [unique_cnt, 'min', 'max', mode]\n",
    "   \n",
    "    res = df.groupby('id')[['first_prch_num', 'q', 'v_l', 'month', 'time_weight', 'v_l_tw']].agg({\n",
    "        'first_prch_num':'max',\n",
    "        'q':'sum',\n",
    "        'v_l':'sum',\n",
    "        'month':unique_cnt,\n",
    "        'time_weight':['min', 'median'],\n",
    "        'v_l_tw':'median'\n",
    "    })\n",
    " \n",
    "    if take_values:\n",
    "        return res.values, res.index\n",
    "    else:\n",
    "        return res"
   ]
  },
  {
   "cell_type": "code",
   "execution_count": null,
   "metadata": {
    "collapsed": true
   },
   "outputs": [],
   "source": [
    "def aggregate_xgb(df, take_values=True):\n",
    "    mode = lambda x: stats.mode(x).mode[0]\n",
    "    fst = lambda vec: vec.iloc[0]\n",
    "    simple_trend = lambda vec: np.sum(vec.shift(1)-vec[1:])\n",
    "    \n",
    "    num_features = ['min', 'max', 'median', 'sum', simple_trend]\n",
    "    cat_features = [unique_cnt, 'min', 'max', mode]\n",
    "   \n",
    "    res = df.groupby('id')[['first_prch_num', 'q', 'v_l', 'month', 'time_weight', 'v_l_tw',\n",
    "                            'percent', 'sum_b_tw', 'q_tw', 'code_azs', 'cur_points', 'sum_b',\n",
    "                            'true_percent', 'percent_tw']].agg({\n",
    "        'first_prch_num': ['max'],\n",
    "        'percent': [simple_trend],\n",
    "        'sum_b_tw': ['median', 'max'],\n",
    "        'q_tw': ['median', 'sum'],\n",
    "        'q': [simple_trend, 'sum'],\n",
    "        'v_l': ['sum', 'max'],\n",
    "        'month': [unique_cnt, mode],\n",
    "        'time_weight': ['min', 'median'],\n",
    "        'v_l_tw': ['median'],\n",
    "        'code_azs': [mode],\n",
    "        'cur_points': [simple_trend],\n",
    "        'sum_b': ['sum'],\n",
    "        'weekday': [mode],\n",
    "        'true_percent': ['max'],\n",
    "        'percent_tw': ['sum']\n",
    "    })\n",
    " \n",
    "    if take_values:\n",
    "        return res.values, res.index\n",
    "    else:\n",
    "        return res"
   ]
  },
  {
   "cell_type": "code",
   "execution_count": null,
   "metadata": {},
   "outputs": [
    {
     "name": "stdout",
     "output_type": "stream",
     "text": [
      "0\n",
      "Adding features..\n",
      "Aggregating..\n",
      "1\n",
      "Adding features..\n",
      "Aggregating..\n"
     ]
    }
   ],
   "source": [
    "for offset in range(total_splits):\n",
    "    print(offset)\n",
    "    X_train, y_train = calculate_target(train, offset=offset)\n",
    "    X_tr, X_val, y_tr, y_val = train_test_split(X_train, y_train)\n",
    "    print(\"Adding features..\")\n",
    "    X_tr, X_val = add_features(X_tr, X_val, sort=True)\n",
    "    print(\"Aggregating..\")\n",
    "    X_tr_xgb, X_val_xgb = aggregate_xgb(X_tr, take_values=False), aggregate_xgb(X_val, take_values=False)\n",
    "    X_tr_cb, X_val_cb = aggregate_cb(X_tr, take_values=False), aggregate_cb(X_val, take_values=False)\n",
    "    \n",
    "    save_split('data/holdouts_xgb.hdf', X_tr_xgb, X_val_xgb, y_tr, y_val, str(offset))\n",
    "    save_split('data/holdouts_cb.hdf', X_tr_cb, X_val_cb, y_tr, y_val, str(offset))"
   ]
  },
  {
   "cell_type": "markdown",
   "metadata": {},
   "source": [
    "### DataFrame with models results"
   ]
  },
  {
   "cell_type": "code",
   "execution_count": null,
   "metadata": {
    "collapsed": true
   },
   "outputs": [],
   "source": [
    "lgb = LGBMClassifier()\n",
    "scores_lgb, probas_lgb = cross_val(lgb, None, None, return_proba=True, splits=total_splits,\n",
    "                           splits_file='data/holdouts_lgb.hdf', verbose=False)\n",
    "print(np.mean(scores_lgb))"
   ]
  },
  {
   "cell_type": "code",
   "execution_count": null,
   "metadata": {
    "collapsed": true
   },
   "outputs": [],
   "source": [
    "cb_param = {\n",
    "    'depth': 8,\n",
    "    'eval_metric': 'AUC',\n",
    "    'l2_leaf_reg': 0.01,\n",
    "    'random_seed': 42,\n",
    "    'rsm': 0.5,\n",
    "    'train_dir': './catboost',\n",
    "    'verbose': False,\n",
    "    'od_type': 'Iter'\n",
    "}\n",
    "\n",
    "cb = CatBoostClassifier(**cb_param)\n",
    "cat_features=[]\n",
    "scores_cb, probas_cb = cross_val(cb, None, None, return_proba=True, splits=total_splits,\n",
    "                           splits_file='data/holdouts_cb.hdf', verbose=True,\n",
    "                          cat_features=cat_features)\n",
    "print(np.mean(scores_cb))"
   ]
  },
  {
   "cell_type": "code",
   "execution_count": null,
   "metadata": {
    "collapsed": true
   },
   "outputs": [],
   "source": [
    "xgb_params = {\n",
    "    'booster': 'gblinear',\n",
    "    'objective': 'binary:logistic',\n",
    "    'lambda': 0.5,\n",
    "    'learning_rate': 1.2,\n",
    "    'silent': 1.0,\n",
    "    'seed': 42\n",
    "}\n",
    "\n",
    "xgb = XGBClassifier(**xgb_params, num_rounds = 500, n_jobs=-1)\n",
    "scores_xgb, probas_xgb = cross_val(xgb, None, None, return_proba=True, splits=5,\n",
    "                                   splits_file='data/holdouts_xgb.hdf', verbose=False)\n",
    "print(np.mean(scores_xgb))"
   ]
  },
  {
   "cell_type": "markdown",
   "metadata": {},
   "source": [
    "Add columns: xgb, KNN etc."
   ]
  },
  {
   "cell_type": "code",
   "execution_count": null,
   "metadata": {
    "collapsed": true
   },
   "outputs": [],
   "source": [
    "X = pd.DataFrame({'cb': pd.concat(probas_cb), 'xgb': pd.concat(probas_xgb)})"
   ]
  },
  {
   "cell_type": "code",
   "execution_count": null,
   "metadata": {
    "collapsed": true
   },
   "outputs": [],
   "source": [
    "target = []\n",
    "for offset in range(total_splits):\n",
    "    X_tr, X_val, y_tr, y_val = load_split('data/holdouts_cb.hdf', offset)\n",
    "    target.append(y_val)\n",
    "target = pd.concat(target)"
   ]
  },
  {
   "cell_type": "markdown",
   "metadata": {},
   "source": [
    "# Stacking"
   ]
  },
  {
   "cell_type": "code",
   "execution_count": null,
   "metadata": {
    "collapsed": true
   },
   "outputs": [],
   "source": [
    "for col in X_val.columns:\n",
    "    print(col,\"-\",roc_auc_score(y_val, X_val[col]))"
   ]
  },
  {
   "cell_type": "markdown",
   "metadata": {},
   "source": [
    "## LGB"
   ]
  },
  {
   "cell_type": "code",
   "execution_count": null,
   "metadata": {
    "collapsed": true
   },
   "outputs": [],
   "source": [
    "from sklearn.model_selection import train_test_split as tr_val"
   ]
  },
  {
   "cell_type": "code",
   "execution_count": null,
   "metadata": {
    "collapsed": true
   },
   "outputs": [],
   "source": [
    "X_tr, X_val, y_tr, y_val = tr_val(X, target, train_size=0.75, shuffle=True)"
   ]
  },
  {
   "cell_type": "code",
   "execution_count": null,
   "metadata": {
    "collapsed": true
   },
   "outputs": [],
   "source": [
    "y_pred = lgb.fit(X_tr, y_tr).predict_proba(X_val)[:, 1]\n",
    "roc_auc_score(y_val, y_pred)"
   ]
  },
  {
   "cell_type": "code",
   "execution_count": null,
   "metadata": {
    "collapsed": true
   },
   "outputs": [],
   "source": [
    "roc_auc_score(y_val, X_val.iloc[:, 0]), roc_auc_score(y_val, X_val.iloc[:, 1])"
   ]
  },
  {
   "cell_type": "markdown",
   "metadata": {},
   "source": [
    "## Linear"
   ]
  },
  {
   "cell_type": "code",
   "execution_count": null,
   "metadata": {
    "collapsed": true
   },
   "outputs": [],
   "source": [
    "lr = LinearRegression(fit_intercept=False).fit(X_tr, y_tr)"
   ]
  },
  {
   "cell_type": "code",
   "execution_count": null,
   "metadata": {
    "collapsed": true
   },
   "outputs": [],
   "source": [
    "y_pred = lr.fit(X_tr, y_tr).predict(X_val)\n",
    "roc_auc_score(y_val, y_pred)"
   ]
  },
  {
   "cell_type": "code",
   "execution_count": null,
   "metadata": {
    "collapsed": true
   },
   "outputs": [],
   "source": []
  },
  {
   "cell_type": "markdown",
   "metadata": {},
   "source": [
    "# Submission"
   ]
  },
  {
   "cell_type": "markdown",
   "metadata": {},
   "source": [
    "Set whichever stacker you chose"
   ]
  },
  {
   "cell_type": "code",
   "execution_count": null,
   "metadata": {
    "collapsed": true
   },
   "outputs": [],
   "source": [
    "clf = LinearRegression(fit_intercept=False)"
   ]
  },
  {
   "cell_type": "code",
   "execution_count": null,
   "metadata": {
    "collapsed": true
   },
   "outputs": [],
   "source": [
    "clf.fit(X, target)"
   ]
  },
  {
   "cell_type": "code",
   "execution_count": null,
   "metadata": {
    "collapsed": true
   },
   "outputs": [],
   "source": [
    "###SOME MAGIC WITH GENERATING SUBMISSIONS FROM DIFFERENT MODELS\n",
    "# suppose, now we have submission_cb, submission_lgb, submission_xgb"
   ]
  },
  {
   "cell_type": "code",
   "execution_count": null,
   "metadata": {
    "collapsed": true
   },
   "outputs": [],
   "source": [
    "X_test_probas = pd.DataFrame({'cb': submission_cb.proba, 'lgb': submission_lgb.proba})"
   ]
  },
  {
   "cell_type": "code",
   "execution_count": null,
   "metadata": {
    "collapsed": true
   },
   "outputs": [],
   "source": [
    "sample_submission = pd.read_csv('data/sample_submission.csv')\n",
    "sample_submission.proba = clf.predict(X_test_probas)"
   ]
  }
 ],
 "metadata": {
  "kernelspec": {
   "display_name": "Python 3",
   "language": "python",
   "name": "python3"
  },
  "language_info": {
   "codemirror_mode": {
    "name": "ipython",
    "version": 3
   },
   "file_extension": ".py",
   "mimetype": "text/x-python",
   "name": "python",
   "nbconvert_exporter": "python",
   "pygments_lexer": "ipython3",
   "version": "3.6.3"
  }
 },
 "nbformat": 4,
 "nbformat_minor": 2
}
