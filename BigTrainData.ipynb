{
 "cells": [
  {
   "cell_type": "code",
   "execution_count": 1,
   "metadata": {
    "collapsed": true
   },
   "outputs": [],
   "source": [
    "import pandas as pd\n",
    "import numpy as np\n",
    "from utils import *"
   ]
  },
  {
   "cell_type": "code",
   "execution_count": 2,
   "metadata": {
    "collapsed": true
   },
   "outputs": [],
   "source": [
    "train, test = load_data(sort=True, points=False)"
   ]
  },
  {
   "cell_type": "code",
   "execution_count": 20,
   "metadata": {},
   "outputs": [
    {
     "data": {
      "text/plain": [
       "24    68.060972\n",
       "12    13.215112\n",
       "23     9.820341\n",
       "22     2.655884\n",
       "11     1.466825\n",
       "21     1.165798\n",
       "20     0.867507\n",
       "10     0.608897\n",
       "19     0.500800\n",
       "18     0.335235\n",
       "9      0.301028\n",
       "17     0.232612\n",
       "8      0.147777\n",
       "16     0.136831\n",
       "7      0.106728\n",
       "15     0.102623\n",
       "14     0.076625\n",
       "13     0.067047\n",
       "6      0.053364\n",
       "5      0.028734\n",
       "4      0.027366\n",
       "3      0.013683\n",
       "2      0.005473\n",
       "1      0.002737\n",
       "Name: month, dtype: float64"
      ]
     },
     "execution_count": 20,
     "metadata": {},
     "output_type": "execute_result"
    }
   ],
   "source": [
    "train['month'] = train.date.apply(lambda date: (date.year - 2016) * 12 + date.month)\n",
    "\n",
    "tmp = train.groupby('id').month.apply(set)\n",
    "x = tmp.apply(lambda row: max(row))\n",
    "x.value_counts() / x.count() * 100"
   ]
  },
  {
   "cell_type": "code",
   "execution_count": 3,
   "metadata": {
    "collapsed": true
   },
   "outputs": [],
   "source": [
    "test['month'] = test.date.apply(lambda date: (date.year - 2016) * 12 + date.month)"
   ]
  },
  {
   "cell_type": "code",
   "execution_count": 5,
   "metadata": {},
   "outputs": [],
   "source": [
    "tmp = test.groupby('id').month.apply(lambda x: max(set(x)))"
   ]
  },
  {
   "cell_type": "code",
   "execution_count": 15,
   "metadata": {},
   "outputs": [
    {
     "data": {
      "text/plain": [
       "id\n",
       "21-186G-1142    23\n",
       "21-186G-1225    21\n",
       "21-186G-1227    23\n",
       "21-186G-1232    21\n",
       "21-186G-1258    21\n",
       "21-186G-1287    21\n",
       "21-186G-1306    23\n",
       "21-186G-1310    23\n",
       "21-186G-1344    21\n",
       "21-186G-1358    23\n",
       "21-186G-136     23\n",
       "21-186G-1368    21\n",
       "21-186G-1455    21\n",
       "21-186G-1495    23\n",
       "21-186G-15      21\n",
       "21-186G-1512    23\n",
       "21-186G-1524    21\n",
       "21-186G-1547    21\n",
       "21-186G-1548    23\n",
       "21-186G-1574    21\n",
       "Name: month, dtype: int64"
      ]
     },
     "execution_count": 15,
     "metadata": {},
     "output_type": "execute_result"
    }
   ],
   "source": [
    "tmp.head(20)"
   ]
  },
  {
   "cell_type": "code",
   "execution_count": 22,
   "metadata": {
    "collapsed": true
   },
   "outputs": [],
   "source": [
    "err = tmp == 21"
   ]
  },
  {
   "cell_type": "code",
   "execution_count": 11,
   "metadata": {},
   "outputs": [],
   "source": [
    "error_ind = tmp[tmp == 21].index"
   ]
  },
  {
   "cell_type": "code",
   "execution_count": 37,
   "metadata": {
    "collapsed": true
   },
   "outputs": [],
   "source": [
    "submission = pd.read_csv('catboost_petr.csv', index_col='id')"
   ]
  },
  {
   "cell_type": "code",
   "execution_count": 25,
   "metadata": {
    "collapsed": true
   },
   "outputs": [],
   "source": [
    "submission.loc[err] = submission.loc[err] * 1.2"
   ]
  },
  {
   "cell_type": "code",
   "execution_count": 38,
   "metadata": {},
   "outputs": [],
   "source": [
    "submission.loc[error_ind] = submission.loc[error_ind] * 0.5"
   ]
  },
  {
   "cell_type": "code",
   "execution_count": 39,
   "metadata": {
    "collapsed": true
   },
   "outputs": [],
   "source": [
    "submission.to_csv('petrovich_leak.csv')"
   ]
  },
  {
   "cell_type": "code",
   "execution_count": 20,
   "metadata": {},
   "outputs": [
    {
     "data": {
      "text/plain": [
       "proba    0.946601\n",
       "dtype: float64"
      ]
     },
     "execution_count": 20,
     "metadata": {},
     "output_type": "execute_result"
    }
   ],
   "source": [
    "submission.max()"
   ]
  },
  {
   "cell_type": "code",
   "execution_count": 31,
   "metadata": {
    "collapsed": true
   },
   "outputs": [],
   "source": [
    "leak1 = pd.read_csv('catboost_agg_leeked', index_col='id')"
   ]
  },
  {
   "cell_type": "code",
   "execution_count": 32,
   "metadata": {},
   "outputs": [
    {
     "data": {
      "text/plain": [
       "proba    3220.465876\n",
       "dtype: float64"
      ]
     },
     "execution_count": 32,
     "metadata": {},
     "output_type": "execute_result"
    }
   ],
   "source": [
    "leak1.sum()"
   ]
  },
  {
   "cell_type": "code",
   "execution_count": 29,
   "metadata": {},
   "outputs": [
    {
     "data": {
      "text/plain": [
       "proba    3220.465876\n",
       "dtype: float64"
      ]
     },
     "execution_count": 29,
     "metadata": {},
     "output_type": "execute_result"
    }
   ],
   "source": [
    "submission.sum()"
   ]
  },
  {
   "cell_type": "code",
   "execution_count": null,
   "metadata": {
    "collapsed": true
   },
   "outputs": [],
   "source": []
  }
 ],
 "metadata": {
  "kernelspec": {
   "display_name": "Python 3",
   "language": "python",
   "name": "python3"
  },
  "language_info": {
   "codemirror_mode": {
    "name": "ipython",
    "version": 3
   },
   "file_extension": ".py",
   "mimetype": "text/x-python",
   "name": "python",
   "nbconvert_exporter": "python",
   "pygments_lexer": "ipython3",
   "version": "3.6.3"
  }
 },
 "nbformat": 4,
 "nbformat_minor": 2
}
