{
 "cells": [
  {
   "cell_type": "code",
   "execution_count": 1,
   "metadata": {
    "collapsed": true
   },
   "outputs": [],
   "source": [
    "import pandas as pd\n",
    "import numpy as np\n",
    "from utils import *"
   ]
  },
  {
   "cell_type": "code",
   "execution_count": 2,
   "metadata": {
    "collapsed": true
   },
   "outputs": [],
   "source": [
    "train, test = load_data(sort=True, points=False)"
   ]
  },
  {
   "cell_type": "code",
   "execution_count": 12,
   "metadata": {},
   "outputs": [
    {
     "data": {
      "text/plain": [
       "0     28098\n",
       "1     12642\n",
       "2      8473\n",
       "3      6278\n",
       "4      4946\n",
       "5      3596\n",
       "6      2822\n",
       "7      2064\n",
       "8      1456\n",
       "9      1012\n",
       "10      668\n",
       "11      467\n",
       "12      248\n",
       "13      144\n",
       "14       76\n",
       "15       42\n",
       "16       29\n",
       "17       12\n",
       "18        9\n",
       "19        1\n",
       "Name: month, dtype: int64"
      ]
     },
     "execution_count": 12,
     "metadata": {},
     "output_type": "execute_result"
    }
   ],
   "source": [
    "train['month'] = train.date.apply(lambda date: (date.year - 2016) * 12 + date.month)\n",
    "\n",
    "tmp = train.groupby('id').month.apply(set)\n",
    "\n",
    "tmp.apply(lambda row: max(row) - min(row) - len(row) + 1).value_counts()"
   ]
  },
  {
   "cell_type": "code",
   "execution_count": 13,
   "metadata": {},
   "outputs": [
    {
     "data": {
      "text/plain": [
       "0     19027\n",
       "1      4615\n",
       "2      2483\n",
       "3      1569\n",
       "4      1095\n",
       "5       812\n",
       "6       573\n",
       "7       363\n",
       "8       240\n",
       "9       152\n",
       "10       87\n",
       "11       55\n",
       "12       26\n",
       "13        8\n",
       "14        7\n",
       "15        5\n",
       "16        3\n",
       "17        2\n",
       "Name: month, dtype: int64"
      ]
     },
     "execution_count": 13,
     "metadata": {},
     "output_type": "execute_result"
    }
   ],
   "source": [
    "test['month'] = test.date.apply(lambda date: (date.year - 2016) * 12 + date.month)\n",
    "\n",
    "tmp = test.groupby('id').month.apply(set)\n",
    "\n",
    "tmp.apply(lambda row: max(row) - min(row) - len(row) + 1).value_counts()"
   ]
  },
  {
   "cell_type": "code",
   "execution_count": null,
   "metadata": {
    "collapsed": true
   },
   "outputs": [],
   "source": []
  }
 ],
 "metadata": {
  "kernelspec": {
   "display_name": "Python 3",
   "language": "python",
   "name": "python3"
  },
  "language_info": {
   "codemirror_mode": {
    "name": "ipython",
    "version": 3
   },
   "file_extension": ".py",
   "mimetype": "text/x-python",
   "name": "python",
   "nbconvert_exporter": "python",
   "pygments_lexer": "ipython3",
   "version": "3.6.3"
  }
 },
 "nbformat": 4,
 "nbformat_minor": 2
}
