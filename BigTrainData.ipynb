{
 "cells": [
  {
   "cell_type": "code",
   "execution_count": 1,
   "metadata": {
    "collapsed": true
   },
   "outputs": [],
   "source": [
    "import pandas as pd\n",
    "import numpy as np\n",
    "from utils import *"
   ]
  },
  {
   "cell_type": "code",
   "execution_count": 2,
   "metadata": {
    "collapsed": true
   },
   "outputs": [],
   "source": [
    "train, test = load_data(sort=True, points=False)"
   ]
  },
  {
   "cell_type": "code",
   "execution_count": 20,
   "metadata": {},
   "outputs": [
    {
     "data": {
      "text/plain": [
       "24    68.060972\n",
       "12    13.215112\n",
       "23     9.820341\n",
       "22     2.655884\n",
       "11     1.466825\n",
       "21     1.165798\n",
       "20     0.867507\n",
       "10     0.608897\n",
       "19     0.500800\n",
       "18     0.335235\n",
       "9      0.301028\n",
       "17     0.232612\n",
       "8      0.147777\n",
       "16     0.136831\n",
       "7      0.106728\n",
       "15     0.102623\n",
       "14     0.076625\n",
       "13     0.067047\n",
       "6      0.053364\n",
       "5      0.028734\n",
       "4      0.027366\n",
       "3      0.013683\n",
       "2      0.005473\n",
       "1      0.002737\n",
       "Name: month, dtype: float64"
      ]
     },
     "execution_count": 20,
     "metadata": {},
     "output_type": "execute_result"
    }
   ],
   "source": [
    "train['month'] = train.date.apply(lambda date: (date.year - 2016) * 12 + date.month)\n",
    "\n",
    "tmp = train.groupby('id').month.apply(set)\n",
    "x = tmp.apply(lambda row: max(row))\n",
    "x.value_counts() / x.count() * 100"
   ]
  },
  {
   "cell_type": "code",
   "execution_count": 19,
   "metadata": {},
   "outputs": [
    {
     "data": {
      "text/plain": [
       "21    50.816143\n",
       "23    49.183857\n",
       "Name: month, dtype: float64"
      ]
     },
     "execution_count": 19,
     "metadata": {},
     "output_type": "execute_result"
    }
   ],
   "source": [
    "test['month'] = test.date.apply(lambda date: (date.year - 2016) * 12 + date.month)\n",
    "\n",
    "tmp = test.groupby('id').month.apply(set)\n",
    "x = tmp.apply(lambda row: max(row))\n",
    "x.value_counts() / x.count() * 100"
   ]
  },
  {
   "cell_type": "code",
   "execution_count": null,
   "metadata": {
    "collapsed": true
   },
   "outputs": [],
   "source": []
  }
 ],
 "metadata": {
  "kernelspec": {
   "display_name": "Python 3",
   "language": "python",
   "name": "python3"
  },
  "language_info": {
   "codemirror_mode": {
    "name": "ipython",
    "version": 3
   },
   "file_extension": ".py",
   "mimetype": "text/x-python",
   "name": "python",
   "nbconvert_exporter": "python",
   "pygments_lexer": "ipython3",
   "version": "3.6.3"
  }
 },
 "nbformat": 4,
 "nbformat_minor": 2
}
