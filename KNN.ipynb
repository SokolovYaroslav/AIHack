{
 "cells": [
  {
   "cell_type": "code",
   "execution_count": 1,
   "metadata": {
    "collapsed": true
   },
   "outputs": [],
   "source": [
    "from utils_optimized import *\n",
    "import pandas as pd\n",
    "import numpy as np\n",
    "from sklearn.neighbors import KNeighborsClassifier\n",
    "from sklearn.metrics import roc_auc_score"
   ]
  },
  {
   "cell_type": "code",
   "execution_count": 2,
   "metadata": {},
   "outputs": [],
   "source": [
    "train, test = load_data()\n",
    "X_train, y_train = calculate_target(train)"
   ]
  },
  {
   "cell_type": "code",
   "execution_count": 16,
   "metadata": {
    "collapsed": true
   },
   "outputs": [],
   "source": [
    "X_tr, X_val, y_tr, y_val = train_test_split(X_train, y_train)"
   ]
  },
  {
   "cell_type": "code",
   "execution_count": 17,
   "metadata": {
    "collapsed": true
   },
   "outputs": [],
   "source": [
    "X_tr, X_val = add_features(X_tr, X_val, sort=True)"
   ]
  },
  {
   "cell_type": "code",
   "execution_count": 18,
   "metadata": {},
   "outputs": [
    {
     "data": {
      "text/plain": [
       "Index(['id', 'time', 'v_l', 'q', 'n_tr', 'code_azs', 'first_prch', 'location',\n",
       "       'region', 'code', 'code1', 'type', 'date', 'sum_b', 'percent',\n",
       "       'cur_points', 'full_month', 'first_prch_num', 'month', 'days',\n",
       "       'time_weight', 'sum_b_tw', 'v_l_tw', 'q_tw', 'percent_tw'],\n",
       "      dtype='object')"
      ]
     },
     "execution_count": 18,
     "metadata": {},
     "output_type": "execute_result"
    }
   ],
   "source": [
    "X_tr.columns"
   ]
  },
  {
   "cell_type": "code",
   "execution_count": 53,
   "metadata": {},
   "outputs": [],
   "source": [
    "def aggregate_new(df, take_values=False):\n",
    "    mode = lambda x: stats.mode(x).mode[0]\n",
    "    fst = lambda vec: vec.iloc[0]\n",
    "    simple_trend = lambda vec: np.sum(vec.shift(1)-vec[1:])\n",
    "   \n",
    "    num_features = ['min', 'max', 'median', 'sum', simple_trend]\n",
    "    cat_features = [unique_cnt, 'min', 'max', mode]\n",
    "   \n",
    "    #'first_prch_num', 'q', 'v_l', 'month', 'time_weight', 'v_l_tw'\n",
    "    res = df.groupby('id')[[ 'q_tw', 'sum_b', 'v_l_tw',\n",
    "                            'percent_tw', 'time_weight']].agg({\n",
    "#         'first_prch_num':'max',\n",
    "#         'q':['sum', 'mean'],\n",
    "        'q_tw':['sum', 'median', simple_trend],\n",
    "        'v_l_tw':['sum', 'mean', simple_trend],\n",
    "        'sum_b':['sum', 'mean', simple_trend],\n",
    "#         'percent_tw': 'mean',\n",
    "#         'first_purch_num': ['mean'],\n",
    "#         'month':unique_cnt,\n",
    "        'time_weight':['median', 'sum']\n",
    "    })\n",
    " \n",
    "    if take_values:\n",
    "        return res.values, res.index\n",
    "    else:\n",
    "        return res"
   ]
  },
  {
   "cell_type": "code",
   "execution_count": null,
   "metadata": {},
   "outputs": [],
   "source": [
    "X_tr_agg, X_val_agg = aggregate_new(X_tr), aggregate_new(X_val)"
   ]
  },
  {
   "cell_type": "code",
   "execution_count": null,
   "metadata": {},
   "outputs": [],
   "source": [
    "knn = KNeighborsClassifier(100, weights='uniform', p=1)\n",
    "y_pred = knn.fit(X_tr_agg, y_tr).predict_proba(X_val_agg)[:, 1]"
   ]
  },
  {
   "cell_type": "code",
   "execution_count": 52,
   "metadata": {},
   "outputs": [
    {
     "data": {
      "text/plain": [
       "0.7333501933092146"
      ]
     },
     "execution_count": 52,
     "metadata": {},
     "output_type": "execute_result"
    }
   ],
   "source": [
    "roc_auc_score(y_val, y_pred)"
   ]
  },
  {
   "cell_type": "code",
   "execution_count": null,
   "metadata": {
    "collapsed": true
   },
   "outputs": [],
   "source": [
    "roc_auc_score(y_val, y_pred)"
   ]
  }
 ],
 "metadata": {
  "kernelspec": {
   "display_name": "Python 3",
   "language": "python",
   "name": "python3"
  },
  "language_info": {
   "codemirror_mode": {
    "name": "ipython",
    "version": 3
   },
   "file_extension": ".py",
   "mimetype": "text/x-python",
   "name": "python",
   "nbconvert_exporter": "python",
   "pygments_lexer": "ipython3",
   "version": "3.6.3"
  }
 },
 "nbformat": 4,
 "nbformat_minor": 2
}
