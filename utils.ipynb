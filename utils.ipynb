{
 "cells": [
  {
   "cell_type": "code",
   "execution_count": 1,
   "metadata": {
    "collapsed": true
   },
   "outputs": [],
   "source": [
    "import pandas as pd\n",
    "import numpy as np\n",
    "from datetime import timedelta\n",
    "import os"
   ]
  },
  {
   "cell_type": "code",
   "execution_count": 2,
   "metadata": {
    "collapsed": true
   },
   "outputs": [],
   "source": [
    "def load_data(resave=False):\n",
    "    \"\"\"\n",
    "    If data.hdf doesn't exist, creates it (from train_data.csv and test_data.csv),\n",
    "    dropping from train & test 'Unnamed: 0' and transforming date to datetime\n",
    "    If exists, just loads it\n",
    "    \n",
    "    resave (bool): whether to respawn data.hdf again\n",
    "    \"\"\"\n",
    "    if not os.path.isfile('data/data.hdf') or resave:\n",
    "        train = pd.read_csv('data/train_data.csv').drop('Unnamed: 0', axis=1)\n",
    "        test = pd.read_csv('data/test_data.csv').drop('Unnamed: 0', axis=1)\n",
    "        train['date'] = pd.to_datetime(train.date)\n",
    "        test['date'] = pd.to_datetime(test.date)\n",
    "        train.to_hdf('data/data.hdf', 'train')\n",
    "        test.to_hdf('data/data.hdf', 'test')\n",
    "    return pd.read_hdf('data/data.hdf', 'train'), pd.read_hdf('data/data.hdf', 'test')"
   ]
  },
  {
   "cell_type": "code",
   "execution_count": 3,
   "metadata": {},
   "outputs": [
    {
     "name": "stdout",
     "output_type": "stream",
     "text": [
      "CPU times: user 3.74 s, sys: 3.31 s, total: 7.04 s\n",
      "Wall time: 7.03 s\n"
     ]
    }
   ],
   "source": [
    "%%time\n",
    "train, test = load_data()"
   ]
  },
  {
   "cell_type": "code",
   "execution_count": 4,
   "metadata": {
    "collapsed": true
   },
   "outputs": [],
   "source": [
    "train['date'] = pd.to_datetime(train.date)"
   ]
  },
  {
   "cell_type": "code",
   "execution_count": 5,
   "metadata": {
    "collapsed": true
   },
   "outputs": [],
   "source": [
    "def calculate_target(train, offset=0):\n",
    "    \"\"\"\n",
    "    Returns X_train without last 30 days and Series with index=ids, values=target\n",
    "    Target is built only for users who were present in the X_train (w\\o last 30 days)\n",
    "    \n",
    "    offset (int): month for target is chosen as train.month.max() - offset\n",
    "    \"\"\"\n",
    "    target_month = train.date.dt.month.max() - offset\n",
    "    X_train = train.loc[train.date.dt.month < target_month]\n",
    "    \n",
    "    users = train.loc[train.date.dt.month == target_month].id.unique()\n",
    "    #or aggregate by sum_b, see if the same\n",
    "    users = np.intersect1d(users, X_train.id.unique())\n",
    "    \n",
    "    target = pd.Series(np.zeros((X_train.id.nunique())), index=X_train.id.unique())\n",
    "    target.loc[users] = 1\n",
    "    return X_train, target"
   ]
  },
  {
   "cell_type": "code",
   "execution_count": 6,
   "metadata": {
    "collapsed": true
   },
   "outputs": [],
   "source": [
    "def train_test_split(X_train, y_train, train_size=0.75):\n",
    "    if train_size < 1:\n",
    "        train_size = int(X_train.id.nunique() * train_size)\n",
    "    assert(X_train.id.nunique() == y_train.shape[0])\n",
    "    split_id = X_train.id.unique()[train_size]\n",
    "    split_index = np.where(X_train.id == split_id)[0].min()\n",
    "    return X_train.iloc[:split_index, :], X_train.iloc[split_index:, :],\\\n",
    "           y_train.iloc[:train_size], y_train.iloc[train_size:]"
   ]
  },
  {
   "cell_type": "markdown",
   "metadata": {},
   "source": [
    "Example usage:"
   ]
  },
  {
   "cell_type": "code",
   "execution_count": 7,
   "metadata": {
    "collapsed": true
   },
   "outputs": [],
   "source": [
    "X_train, y_train = calculate_target(train, offset=0)"
   ]
  },
  {
   "cell_type": "code",
   "execution_count": 8,
   "metadata": {},
   "outputs": [],
   "source": [
    "X_tr, X_val, y_tr, y_val = train_test_split(X_train, y_train)"
   ]
  },
  {
   "cell_type": "code",
   "execution_count": null,
   "metadata": {
    "collapsed": true
   },
   "outputs": [],
   "source": []
  }
 ],
 "metadata": {
  "kernelspec": {
   "display_name": "Python 3",
   "language": "python",
   "name": "python3"
  },
  "language_info": {
   "codemirror_mode": {
    "name": "ipython",
    "version": 3
   },
   "file_extension": ".py",
   "mimetype": "text/x-python",
   "name": "python",
   "nbconvert_exporter": "python",
   "pygments_lexer": "ipython3",
   "version": "3.6.3"
  }
 },
 "nbformat": 4,
 "nbformat_minor": 2
}
